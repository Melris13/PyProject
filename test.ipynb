{
 "cells": [
  {
   "attachments": {},
   "cell_type": "markdown",
   "metadata": {},
   "source": [
    "Test récupération data"
   ]
  },
  {
   "cell_type": "code",
   "execution_count": 32,
   "metadata": {},
   "outputs": [
    {
     "ename": "NameError",
     "evalue": "name 'headers' is not defined",
     "output_type": "error",
     "traceback": [
      "\u001b[1;31m---------------------------------------------------------------------------\u001b[0m",
      "\u001b[1;31mNameError\u001b[0m                                 Traceback (most recent call last)",
      "\u001b[1;32mc:\\Users\\Megaport\\Desktop\\PyProject\\test.ipynb Cell 2\u001b[0m line \u001b[0;36m7\n\u001b[0;32m     <a href='vscode-notebook-cell:/c%3A/Users/Megaport/Desktop/PyProject/test.ipynb#W2sZmlsZQ%3D%3D?line=68'>69</a>\u001b[0m \u001b[39m# URL du site\u001b[39;00m\n\u001b[0;32m     <a href='vscode-notebook-cell:/c%3A/Users/Megaport/Desktop/PyProject/test.ipynb#W2sZmlsZQ%3D%3D?line=69'>70</a>\u001b[0m url \u001b[39m=\u001b[39m \u001b[39m'\u001b[39m\u001b[39mhttps://www.spin-off.fr/calendrier_des_series.html\u001b[39m\u001b[39m'\u001b[39m\n\u001b[1;32m---> <a href='vscode-notebook-cell:/c%3A/Users/Megaport/Desktop/PyProject/test.ipynb#W2sZmlsZQ%3D%3D?line=70'>71</a>\u001b[0m episode_data \u001b[39m=\u001b[39m fetch_episode_data(url)\n\u001b[0;32m     <a href='vscode-notebook-cell:/c%3A/Users/Megaport/Desktop/PyProject/test.ipynb#W2sZmlsZQ%3D%3D?line=72'>73</a>\u001b[0m \u001b[39m# Afficher les données récupérées\u001b[39;00m\n\u001b[0;32m     <a href='vscode-notebook-cell:/c%3A/Users/Megaport/Desktop/PyProject/test.ipynb#W2sZmlsZQ%3D%3D?line=73'>74</a>\u001b[0m \u001b[39mfor\u001b[39;00m episode \u001b[39min\u001b[39;00m episode_data:\n",
      "\u001b[1;32mc:\\Users\\Megaport\\Desktop\\PyProject\\test.ipynb Cell 2\u001b[0m line \u001b[0;36m1\n\u001b[0;32m      <a href='vscode-notebook-cell:/c%3A/Users/Megaport/Desktop/PyProject/test.ipynb#W2sZmlsZQ%3D%3D?line=8'>9</a>\u001b[0m \u001b[39mdef\u001b[39;00m \u001b[39mfetch_episode_data\u001b[39m(url):\n\u001b[0;32m     <a href='vscode-notebook-cell:/c%3A/Users/Megaport/Desktop/PyProject/test.ipynb#W2sZmlsZQ%3D%3D?line=9'>10</a>\u001b[0m     \u001b[39m# Récupération de la page web\u001b[39;00m\n\u001b[1;32m---> <a href='vscode-notebook-cell:/c%3A/Users/Megaport/Desktop/PyProject/test.ipynb#W2sZmlsZQ%3D%3D?line=10'>11</a>\u001b[0m     response \u001b[39m=\u001b[39m requests\u001b[39m.\u001b[39mget(url, headers\u001b[39m=\u001b[39mheaders)\n\u001b[0;32m     <a href='vscode-notebook-cell:/c%3A/Users/Megaport/Desktop/PyProject/test.ipynb#W2sZmlsZQ%3D%3D?line=11'>12</a>\u001b[0m     response\u001b[39m.\u001b[39mraise_for_status()  \u001b[39m# s'assure que la requête a réussi\u001b[39;00m\n\u001b[0;32m     <a href='vscode-notebook-cell:/c%3A/Users/Megaport/Desktop/PyProject/test.ipynb#W2sZmlsZQ%3D%3D?line=12'>13</a>\u001b[0m     soup \u001b[39m=\u001b[39m BeautifulSoup(response\u001b[39m.\u001b[39mcontent, \u001b[39m'\u001b[39m\u001b[39mhtml.parser\u001b[39m\u001b[39m'\u001b[39m)\n",
      "\u001b[1;31mNameError\u001b[0m: name 'headers' is not defined"
     ]
    }
   ],
   "source": [
    "from bs4 import BeautifulSoup\n",
    "import requests\n",
    "from datetime import datetime\n",
    "import re\n",
    "\n",
    "headers = {\n",
    "    'User-Agent': 'Mozilla/5.0 (Windows NT 10.0; Win64; x64) AppleWebKit/537.36 (KHTML, like Gecko) Chrome/58.0.3029.110 Safari/537.3'\n",
    "}\n",
    "\n",
    "# ... previous code ...\n",
    "\n",
    "\n",
    "def fetch_episode_data(url):\n",
    "    # Récupération de la page web\n",
    "    response = requests.get(url, headers=headers)\n",
    "    response.raise_for_status()  # s'assure que la requête a réussi\n",
    "    soup = BeautifulSoup(response.content, 'html.parser')\n",
    "\n",
    "    # Récupérer le mois courant pour filtrer les épisodes\n",
    "    current_month = datetime.now().strftime(\"%B\").lower()\n",
    "\n",
    "    data = []\n",
    "\n",
    "    # Find all the 'td' elements with the class 'floatleftmobile td_jour'\n",
    "    days = soup.find_all('td', class_='floatleftmobile td_jour')\n",
    "\n",
    "    for day in days:\n",
    "        class_regex = re.compile(\"div_jour(courant)?\")\n",
    "        # Find the date within the 'div' with class 'div_jour'\n",
    "        date_div = day.find('div', class_=class_regex)\n",
    "        if date_div:\n",
    "            date_text = date_div.get('id')\n",
    "\n",
    "            # Find all the series entries within the 'span' with class 'calendrier_episodes'\n",
    "            episodes = day.find_all('span', class_='calendrier_episodes')\n",
    "            for episode in episodes:\n",
    "                # Extracting information using the tags and structure provided\n",
    "                series_info = episode.find('a', style=True)\n",
    "                episode_info = episode.find('a', class_='liens')\n",
    "                country_img = episode.find_previous_sibling('img')\n",
    "                network_img = country_img.find_next_sibling('img')\n",
    "\n",
    "                name = series_info.get('title')\n",
    "                episode_detail = episode_info.get('alt')\n",
    "                network = country_img.get(\n",
    "                    'alt') if country_img else None\n",
    "                origin_country = network_img.get('alt') if network_img else None\n",
    "                episode_url = episode_info.get('href')\n",
    "\n",
    "                # Parse out the season and episode numbers from the text\n",
    "                season_episode_match = re.search(\n",
    "                    r'saison (\\d+) episode (\\d+)', episode_detail)\n",
    "                if season_episode_match:\n",
    "                    season_num = int(season_episode_match.group(1))\n",
    "                    episode_num = int(season_episode_match.group(2))\n",
    "\n",
    "                    # Add to the data list\n",
    "                    episode_data = {\n",
    "                        'name': name,\n",
    "                        'season_num': season_num,\n",
    "                        'episode_num': episode_num,\n",
    "                        # Format the date as required\n",
    "                        'date': date_text,\n",
    "                        'origin_country': origin_country,\n",
    "                        'network': network,\n",
    "                        'episode_url': episode_url\n",
    "                    }\n",
    "                    data.append(episode_data)\n",
    "\n",
    "    return data\n",
    "\n",
    "\n",
    "# URL du site\n",
    "url = 'https://www.spin-off.fr/calendrier_des_series.html'\n",
    "episode_data = fetch_episode_data(url)\n",
    "\n",
    "# Afficher les données récupérées\n",
    "for episode in episode_data:\n",
    "    print(episode)\n"
   ]
  },
  {
   "attachments": {},
   "cell_type": "markdown",
   "metadata": {},
   "source": [
    "Mettre tous les éléments dans un fichier .CSV"
   ]
  },
  {
   "cell_type": "code",
   "execution_count": 33,
   "metadata": {},
   "outputs": [
    {
     "name": "stdout",
     "output_type": "stream",
     "text": [
      "Les données ont été enregistrées dans 'data/files\\episodes.csv'\n"
     ]
    }
   ],
   "source": [
    "import csv\n",
    "import os\n",
    "\n",
    "# Chemin vers le dossier où le fichier CSV sera enregistré\n",
    "folder_path = 'data/files'\n",
    "file_name = 'episodes.csv'\n",
    "file_path = os.path.join(folder_path, file_name)\n",
    "episode_data = fetch_episode_data(url)\n",
    "\n",
    "# Créer le dossier s'il n'existe pas déjà\n",
    "os.makedirs(folder_path, exist_ok=True)\n",
    "\n",
    "# Enregistrement dans le fichier CSV\n",
    "with open(file_path, mode='w', newline='', encoding='utf-8') as file:\n",
    "    writer = csv.writer(file, delimiter=';')\n",
    "\n",
    "    # Écriture de l'en-tête du fichier CSV\n",
    "    writer.writerow(['nom_serie', 'numero_de_lepisode', 'numero_de_la_saison', 'date', 'pays_origine', 'reseau', 'url_episode'])\n",
    "\n",
    "    # Écriture des données des épisodes\n",
    "    for episode in episode_data:\n",
    "        writer.writerow([\n",
    "            episode['name'],\n",
    "            episode['episode_num'],\n",
    "            episode['season_num'],\n",
    "            episode['date'],\n",
    "            episode['origin_country'],\n",
    "            episode['network'],\n",
    "            episode['episode_url']\n",
    "        ])\n",
    "\n",
    "print(f\"Les données ont été enregistrées dans '{file_path}'\")\n"
   ]
  },
  {
   "attachments": {},
   "cell_type": "markdown",
   "metadata": {},
   "source": [
    "sqllite add to table\n",
    "\n"
   ]
  },
  {
   "cell_type": "code",
   "execution_count": 34,
   "metadata": {},
   "outputs": [
    {
     "name": "stdout",
     "output_type": "stream",
     "text": [
      "Les données ont été insérées dans la base de données 'data/databases\\database.db'\n"
     ]
    }
   ],
   "source": [
    "import sqlite3\n",
    "import os\n",
    "\n",
    "# Supposons que episodes_data est votre liste de dictionnaires contenant toutes les données d'épisode\n",
    "episode_data = fetch_episode_data(url)\n",
    "\n",
    "# Chemin vers le dossier où la base de données SQLite sera enregistrée\n",
    "db_folder_path = 'data/databases'\n",
    "# Créer le dossier s'il n'existe pas déjà\n",
    "os.makedirs(db_folder_path, exist_ok=True)\n",
    "\n",
    "# Chemin complet de la base de données SQLite\n",
    "db_file_path = os.path.join(db_folder_path, 'database.db')\n",
    "\n",
    "# Connection à la base de données SQLite\n",
    "conn = sqlite3.connect(db_file_path)\n",
    "cursor = conn.cursor()\n",
    "\n",
    "# Créer la table `episode`\n",
    "cursor.execute('''\n",
    "CREATE TABLE IF NOT EXISTS episode (\n",
    "    id INTEGER PRIMARY KEY AUTOINCREMENT,\n",
    "    name TEXT NOT NULL,\n",
    "    season_num INTEGER NOT NULL,\n",
    "    episode_num INTEGER NOT NULL,\n",
    "    date TEXT,\n",
    "    origin_country TEXT,\n",
    "    network TEXT,\n",
    "    episode_url TEXT\n",
    ")\n",
    "''')\n",
    "\n",
    "# Insérer les données dans la table `episode`\n",
    "for episode in episode_data:\n",
    "    cursor.execute('''\n",
    "    INSERT INTO episode (name, season_num, episode_num, date, origin_country, network, episode_url)\n",
    "    VALUES (?, ?, ?, ?, ?, ?, ?)\n",
    "    ''', (\n",
    "        episode['name'],\n",
    "        episode['season_num'],\n",
    "        episode['episode_num'],\n",
    "        episode['date'],\n",
    "        episode['origin_country'],\n",
    "        episode['network'],\n",
    "        episode['episode_url']\n",
    "    ))\n",
    "\n",
    "# Valider les changements\n",
    "conn.commit()\n",
    "\n",
    "# Fermer la connexion\n",
    "conn.close()\n",
    "\n",
    "print(f\"Les données ont été insérées dans la base de données '{db_file_path}'\")\n"
   ]
  },
  {
   "attachments": {},
   "cell_type": "markdown",
   "metadata": {},
   "source": [
    "Question algorithmique"
   ]
  },
  {
   "cell_type": "code",
   "execution_count": 35,
   "metadata": {},
   "outputs": [
    {
     "name": "stdout",
     "output_type": "stream",
     "text": [
      "     network  episode_count\n",
      "0    Netflix             78\n",
      "1    Disney+             64\n",
      "2  Apple TV+             34\n"
     ]
    }
   ],
   "source": [
    "import sqlite3\n",
    "import pandas as pd\n",
    "\n",
    "# Connect to SQLite database\n",
    "conn = sqlite3.connect('data/databases/database.db')\n",
    "\n",
    "# SQL query to count episodes per network\n",
    "query = \"\"\"\n",
    "SELECT network, COUNT(*) as episode_count\n",
    "FROM episode\n",
    "GROUP BY network\n",
    "ORDER BY episode_count DESC\n",
    "LIMIT 3;\n",
    "\"\"\"\n",
    "\n",
    "# Execute the SQL query and fetch the results\n",
    "df = pd.read_sql_query(query, conn)\n",
    "\n",
    "# Close the connection\n",
    "conn.close()\n",
    "\n",
    "# Print the results\n",
    "print(df)\n",
    "\n",
    "# Write the results to README.md\n",
    "with open('README.md', 'a') as f:\n",
    "    f.write(\"\\n## Top 3 Networks with Most Episodes Broadcasted\\n\")\n",
    "    for index, row in df.iterrows():\n",
    "        f.write(f\"- {row['network']}: {row['episode_count']} episodes\\n\")\n"
   ]
  },
  {
   "attachments": {},
   "cell_type": "markdown",
   "metadata": {},
   "source": [
    "Faire de même pour les pays\n"
   ]
  },
  {
   "cell_type": "code",
   "execution_count": 36,
   "metadata": {},
   "outputs": [],
   "source": [
    "import sqlite3\n",
    "\n",
    "def write_top_counts_to_readme(category, limit=3):\n",
    "    # Connect to SQLite database\n",
    "    with sqlite3.connect('data/databases/database.db') as conn:\n",
    "        # Create a cursor object using the cursor() method\n",
    "        cursor = conn.cursor()\n",
    "        \n",
    "        # SQL query to count episodes per category (network or country)\n",
    "        query = f\"\"\"\n",
    "        SELECT {category}, COUNT(*) as episode_count\n",
    "        FROM episode\n",
    "        GROUP BY {category}\n",
    "        ORDER BY episode_count DESC\n",
    "        LIMIT {limit};\n",
    "        \"\"\"\n",
    "        \n",
    "        # Execute the SQL query\n",
    "        cursor.execute(query)\n",
    "\n",
    "        # Fetch all results\n",
    "        results = cursor.fetchall()\n",
    "\n",
    "        # Header for the README section\n",
    "        readme_header = f\"\\n## Top {limit} Countries with Most Episodes Broadcasted\\n\" if category == 'origin_country' \\\n",
    "            else f\"\\n## Top {limit} Networks with Most Episodes Broadcasted\\n\"\n",
    "\n",
    "        # Write the results to README.md\n",
    "        with open('README.md', 'a') as f:\n",
    "            f.write(readme_header)\n",
    "            for row in results:\n",
    "                f.write(f\"- {row[0]}: {row[1]} episodes\\n\")\n",
    "\n",
    "# Write top networks to README.md\n",
    "write_top_counts_to_readme('network')\n",
    "\n",
    "# Write top countries to README.md\n",
    "write_top_counts_to_readme('origin_country')\n"
   ]
  },
  {
   "attachments": {},
   "cell_type": "markdown",
   "metadata": {},
   "source": [
    "\n",
    "3️⃣ Écrire une fonction ou une classe qui permet de lire le fichier episodes.csv sans utiliser de librairie. Cette fonction ou classe devra renvoyer une liste de tuples avec les bons types : "
   ]
  },
  {
   "cell_type": "code",
   "execution_count": 12,
   "metadata": {},
   "outputs": [
    {
     "name": "stdout",
     "output_type": "stream",
     "text": [
      "[('4 Estrellas', 110, 1, 'jour_01-11-2023', 'Etats-Unis', 'TVE', 'episode110-411772-01112023-saison1-4-Estrellas.html'), ('Black Cake', 1, 1, 'jour_01-11-2023', 'Etats-Unis', 'Hulu', 'episode01-410147-01112023-saison1-Black-Cake.html'), ('Black Cake', 2, 1, 'jour_01-11-2023', 'Etats-Unis', 'Hulu', 'episode02-410148-01112023-saison1-Black-Cake.html'), ('Black Cake', 3, 1, 'jour_01-11-2023', 'Italie', 'Hulu', 'episode03-410149-01112023-saison1-Black-Cake.html'), ('Blanca', 5, 2, 'jour_01-11-2023', 'Canada', 'Rai 1', 'episode05-411693-01112023-saison2-Blanca.html'), ('Children Ruin Everything', 6, 3, 'jour_01-11-2023', 'Etats-Unis', 'CTV', 'episode06-411350-01112023-saison3-Children-Ruin-Everything.html'), ('Chucky', 5, 3, 'jour_01-11-2023', 'Etats-Unis', 'Syfy', 'episode05-409118-01112023-saison3-Chucky.html'), (\"Cooper's Bar\", 5, 2, 'jour_01-11-2023', 'France', 'AMC', 'episode05-411065-01112023-saison2-Cooper-s-Bar.html'), ('Demain nous appartient', 53, 7, 'jour_01-11-2023', 'Allemagne', 'TF1', 'episode53-411593-01112023-saison7-Demain-nous-appartient.html'), ('Hotel Mondial', 5, 2, 'jour_01-11-2023', 'Canada', 'ZDF', 'episode05-411891-01112023-saison2-Hotel-Mondial.html'), ('Hudson & Rex', 5, 6, 'jour_01-11-2023', 'Etats-Unis', 'Citytv', 'episode05-411635-01112023-saison6-Hudson--Rex.html'), ('I Leoni di Sicilia', 5, 1, 'jour_01-11-2023', 'Etats-Unis', 'Disney+', 'episode05-411338-01112023-saison1-I-Leoni-di-Sicilia.html'), ('I Leoni di Sicilia', 6, 1, 'jour_01-11-2023', 'Etats-Unis', 'Disney+', 'episode06-411339-01112023-saison1-I-Leoni-di-Sicilia.html'), ('I Leoni di Sicilia', 7, 1, 'jour_01-11-2023', 'Etats-Unis', 'Disney+', 'episode07-411340-01112023-saison1-I-Leoni-di-Sicilia.html'), ('I Leoni di Sicilia', 8, 1, 'jour_01-11-2023', 'France', 'Disney+', 'episode08-411341-01112023-saison1-I-Leoni-di-Sicilia.html'), ('Ici tout commence', 48, 4, 'jour_01-11-2023', 'Canada', 'TF1', 'episode48-411578-01112023-saison4-Ici-tout-commence.html'), ('Inspirez expirez', 4, 1, 'jour_01-11-2023', 'Canada', 'CraveTV', 'episode04-411698-01112023-saison1-Inspirez-expirez.html'), ('Inspirez expirez', 5, 1, 'jour_01-11-2023', 'Etats-Unis', 'CraveTV', 'episode05-411699-01112023-saison1-Inspirez-expirez.html'), ('Magnum P.I. (2018)', 15, 5, 'jour_01-11-2023', 'Etats-Unis', 'NBC', 'episode15-410787-01112023-saison5-Magnum-PI-(2018).html'), ('Quantum Leap (2022)', 5, 2, 'jour_01-11-2023', 'Canada', 'NBC', 'episode05-410596-01112023-saison2-Quantum-Leap-(2022).html'), ('Robyn Hood', 6, 1, 'jour_01-11-2023', 'Royaume-Uni', 'Global', 'episode06-411297-01112023-saison1-Robyn-Hood.html'), ('Shetland', 1, 8, 'jour_01-11-2023', 'Etats-Unis', 'BBC One', 'episode01-411316-01112023-saison8-Shetland.html'), ('Sistas', 14, 6, 'jour_01-11-2023', 'Etats-Unis', 'BET', 'episode14-411347-01112023-saison6-Sistas.html'), ('SurrealEstate', 5, 2, 'jour_01-11-2023', 'Etats-Unis', 'Syfy', 'episode05-410888-01112023-saison2-SurrealEstate.html'), ('The Morning Show', 9, 3, 'jour_01-11-2023', 'France', 'Apple TV+', 'episode09-407704-01112023-saison3-The-Morning-Show.html'), ('Un Si Grand Soleil', 42, 6, 'jour_01-11-2023', 'Etats-Unis', 'France 2', 'episode42-411607-01112023-saison6-Un-Si-Grand-Soleil.html'), ('Young Dylan', 9, 4, 'jour_01-11-2023', '', 'Nickelodeon', 'episode09-411284-01112023-saison4-Young-Dylan.html'), ('4 Estrellas', 111, 1, 'jour_02-11-2023', 'Royaume-Uni', 'TVE', 'episode111-411773-02112023-saison1-4-Estrellas.html'), ('All Creatures Great and Small (2020)', 5, 4, 'jour_02-11-2023', 'Etats-Unis', 'Channel 5', 'episode05-411160-02112023-saison4-All-Creatures-Great-and-Small-(2020).html'), ('All the Light We Cannot See', 1, 1, 'jour_02-11-2023', 'Etats-Unis', 'Netflix', 'episode01-404459-02112023-saison1-All-the-Light-We-Cannot-See.html'), ('All the Light We Cannot See', 2, 1, 'jour_02-11-2023', 'Etats-Unis', 'Netflix', 'episode02-404460-02112023-saison1-All-the-Light-We-Cannot-See.html'), ('All the Light We Cannot See', 3, 1, 'jour_02-11-2023', 'Etats-Unis', 'Netflix', 'episode03-404461-02112023-saison1-All-the-Light-We-Cannot-See.html'), ('All the Light We Cannot See', 4, 1, 'jour_02-11-2023', 'Etats-Unis', 'Netflix', 'episode04-404462-02112023-saison1-All-the-Light-We-Cannot-See.html'), ('À La Carte', 8, 2, 'jour_02-11-2023', 'France', 'ALLBLK', 'episode08-410521-02112023-saison2-A-La-Carte.html'), ('Demain nous appartient', 54, 7, 'jour_02-11-2023', 'Etats-Unis', 'TF1', 'episode54-411594-02112023-saison7-Demain-nous-appartient.html'), ('Doom Patrol', 11, 4, 'jour_02-11-2023', 'Etats-Unis', 'HBO Max', 'episode11-410008-02112023-saison4-Doom-Patrol.html'), ('Frasier (2023)', 5, 1, 'jour_02-11-2023', 'Etats-Unis', 'Paramount+', 'episode05-409727-02112023-saison1-Frasier-(2023).html'), ('Gadis Kretek', 1, 1, 'jour_02-11-2023', 'Etats-Unis', 'Netflix', 'episode01-409077-02112023-saison1-Gadis-Kretek.html'), ('Gadis Kretek', 2, 1, 'jour_02-11-2023', 'Etats-Unis', 'Netflix', 'episode02-411842-02112023-saison1-Gadis-Kretek.html'), ('Gadis Kretek', 3, 1, 'jour_02-11-2023', 'Etats-Unis', 'Netflix', 'episode03-411843-02112023-saison1-Gadis-Kretek.html'), ('Gadis Kretek', 4, 1, 'jour_02-11-2023', 'Etats-Unis', 'Netflix', 'episode04-411844-02112023-saison1-Gadis-Kretek.html'), ('Gadis Kretek', 5, 1, 'jour_02-11-2023', 'France', 'Netflix', 'episode05-411845-02112023-saison1-Gadis-Kretek.html'), ('Ici tout commence', 49, 4, 'jour_02-11-2023', 'Etats-Unis', 'TF1', 'episode49-411579-02112023-saison4-Ici-tout-commence.html'), ('Kingdom Business', 1, 2, 'jour_02-11-2023', 'Espagne', 'BET+', 'episode01-411099-02112023-saison2-Kingdom-Business.html'), ('La Mesias', 5, 1, 'jour_02-11-2023', 'Etats-Unis', 'Moviestar+', 'episode05-410547-02112023-saison1-La-Mesias.html'), ('Loki', 5, 2, 'jour_02-11-2023', 'France', 'Disney+', 'episode05-410905-02112023-saison2-Loki.html'), ('LT-21', 7, 1, 'jour_02-11-2023', 'France', 'OCS', 'episode07-408968-02112023-saison1-LT-21.html'), ('LT-21', 8, 1, 'jour_02-11-2023', 'Etats-Unis', 'OCS', 'episode08-408969-02112023-saison1-LT-21.html'), ('Star Trek: Lower Decks', 10, 4, 'jour_02-11-2023', 'Etats-Unis', 'Paramount+', 'episode10-409764-02112023-saison4-Star-Trek-Lower-Decks.html'), ('The Vanishing Triangle', 3, 1, 'jour_02-11-2023', 'France', 'SundanceTV', 'episode03-410195-02112023-saison1-The-Vanishing-Triangle.html'), ('Un Si Grand Soleil', 43, 6, 'jour_02-11-2023', '', 'France 2', 'episode43-411608-02112023-saison6-Un-Si-Grand-Soleil.html'), ('All Rise', 18, 3, 'jour_04-11-2023', 'Belgique', 'OWN', 'episode18-411548-04112023-saison3-All-Rise.html'), ('Boomer', 10, 1, 'jour_04-11-2023', '', 'Één', 'episode10-409831-04112023-saison1-Boomer.html'), ('Billy the Kid', 4, 2, 'jour_05-11-2023', 'Etats-Unis', 'Epix', 'episode04-409590-05112023-saison2-Billy-the-Kid.html'), (\"Bob's Burgers\", 5, 14, 'jour_05-11-2023', 'Espagne', 'Fox', 'episode05-411285-05112023-saison14-Bob-s-Burgers.html'), ('Entre Tierras', 9, 1, 'jour_05-11-2023', 'Etats-Unis', 'ATRESplayer', 'episode09-410975-05112023-saison1-Entre-Tierras.html'), ('Family Guy', 4, 22, 'jour_05-11-2023', 'Etats-Unis', 'Fox', 'episode04-411119-05112023-saison22-Family-Guy.html'), ('Fear the Walking Dead', 9, 8, 'jour_05-11-2023', 'Canada', 'AMC', 'episode09-408756-05112023-saison8-Fear-the-Walking-Dead.html'), ('Heartland (CA)', 6, 17, 'jour_05-11-2023', 'Etats-Unis', 'CBC', 'episode06-411342-05112023-saison17-Heartland-(CA).html'), ('Krapopolis', 7, 1, 'jour_05-11-2023', 'Etats-Unis', 'Fox', 'episode07-410711-05112023-saison1-Krapopolis.html'), ('Lawmen: Bass Reeves', 1, 1, 'jour_05-11-2023', 'Etats-Unis', 'Paramount+', 'episode01-409976-05112023-saison1-Lawmen-Bass-Reeves.html'), ('Lawmen: Bass Reeves', 2, 1, 'jour_05-11-2023', 'France', 'Paramount+', 'episode02-409977-05112023-saison1-Lawmen-Bass-Reeves.html'), (\"Les Mystères de l'amour\", 13, 33, 'jour_05-11-2023', 'Etats-Unis', 'TMC', 'episode13-411298-05112023-saison33-Les-Mysteres-de-l-amour.html'), ('Rick and Morty', 4, 7, 'jour_05-11-2023', 'Canada', 'Adult Swim', 'episode04-411272-05112023-saison7-Rick-and-Morty.html'), ('SkyMed', 6, 2, 'jour_05-11-2023', 'Etats-Unis', 'CBC Gem', 'episode06-411467-05112023-saison2-SkyMed.html'), ('The Gilded Age', 2, 2, 'jour_05-11-2023', 'Etats-Unis', 'HBO', 'episode02-411126-05112023-saison2-The-Gilded-Age.html'), ('The Simpsons', 5, 35, 'jour_05-11-2023', 'Royaume-Uni', 'Fox', 'episode05-410986-05112023-saison35-The-Simpsons.html'), ('The Winter King', 10, 1, 'jour_05-11-2023', '', 'ITVX', 'episode10-409136-05112023-saison1-The-Winter-King.html'), ('Found', 6, 1, 'jour_07-11-2023', 'Etats-Unis', 'NBC', 'episode06-409897-07112023-saison1-Found.html'), ('The Oval', 4, 5, 'jour_07-11-2023', '', 'BET', 'episode04-411618-07112023-saison5-The-Oval.html'), ('Black Cake', 4, 1, 'jour_08-11-2023', 'Italie', 'Hulu', 'episode04-410150-08112023-saison1-Black-Cake.html'), ('Blanca', 6, 2, 'jour_08-11-2023', 'Canada', 'Rai 1', 'episode06-411694-08112023-saison2-Blanca.html'), ('Children Ruin Everything', 7, 3, 'jour_08-11-2023', 'Etats-Unis', 'CTV', 'episode07-411435-08112023-saison3-Children-Ruin-Everything.html'), ('Chucky', 6, 3, 'jour_08-11-2023', 'Etats-Unis', 'Syfy', 'episode06-409119-08112023-saison3-Chucky.html'), (\"Cooper's Bar\", 6, 2, 'jour_08-11-2023', 'Etats-Unis', 'AMC', 'episode06-411066-08112023-saison2-Cooper-s-Bar.html'), ('Culprits', 1, 1, 'jour_08-11-2023', 'Etats-Unis', 'Disney+', 'episode01-411644-08112023-saison1-Culprits.html'), ('Culprits', 2, 1, 'jour_08-11-2023', 'Etats-Unis', 'Disney+', 'episode02-411645-08112023-saison1-Culprits.html'), ('Culprits', 3, 1, 'jour_08-11-2023', 'Etats-Unis', 'Disney+', 'episode03-411646-08112023-saison1-Culprits.html'), ('Culprits', 4, 1, 'jour_08-11-2023', 'Etats-Unis', 'Disney+', 'episode04-411647-08112023-saison1-Culprits.html'), ('Culprits', 5, 1, 'jour_08-11-2023', 'Etats-Unis', 'Disney+', 'episode05-411648-08112023-saison1-Culprits.html'), ('Culprits', 6, 1, 'jour_08-11-2023', 'Etats-Unis', 'Disney+', 'episode06-411649-08112023-saison1-Culprits.html'), ('Culprits', 7, 1, 'jour_08-11-2023', 'Etats-Unis', 'Disney+', 'episode07-411650-08112023-saison1-Culprits.html'), ('Culprits', 8, 1, 'jour_08-11-2023', 'Allemagne', 'Disney+', 'episode08-411651-08112023-saison1-Culprits.html'), ('Hotel Mondial', 6, 2, 'jour_08-11-2023', 'Canada', 'ZDF', 'episode06-411892-08112023-saison2-Hotel-Mondial.html'), ('Hudson & Rex', 6, 6, 'jour_08-11-2023', 'Canada', 'Citytv', 'episode06-411637-08112023-saison6-Hudson--Rex.html'), ('Inspirez expirez', 6, 1, 'jour_08-11-2023', 'Canada', 'CraveTV', 'episode06-411700-08112023-saison1-Inspirez-expirez.html'), ('Inspirez expirez', 7, 1, 'jour_08-11-2023', 'Canada', 'CraveTV', 'episode07-411701-08112023-saison1-Inspirez-expirez.html'), ('Robyn Hood', 7, 1, 'jour_08-11-2023', 'Royaume-Uni', 'Global', 'episode07-411619-08112023-saison1-Robyn-Hood.html'), ('Shetland', 2, 8, 'jour_08-11-2023', 'Etats-Unis', 'BBC One', 'episode02-411317-08112023-saison8-Shetland.html'), ('Sistas', 15, 6, 'jour_08-11-2023', 'Etats-Unis', 'BET', 'episode15-411638-08112023-saison6-Sistas.html'), ('SurrealEstate', 6, 2, 'jour_08-11-2023', 'Etats-Unis', 'Syfy', 'episode06-410889-08112023-saison2-SurrealEstate.html'), ('The Buccaneers (2023)', 1, 1, 'jour_08-11-2023', 'Etats-Unis', 'Apple TV+', 'episode01-409067-08112023-saison1-The-Buccaneers-(2023).html'), ('The Buccaneers (2023)', 2, 1, 'jour_08-11-2023', 'Etats-Unis', 'Apple TV+', 'episode02-409068-08112023-saison1-The-Buccaneers-(2023).html'), ('The Buccaneers (2023)', 3, 1, 'jour_08-11-2023', 'Etats-Unis', 'Apple TV+', 'episode03-409069-08112023-saison1-The-Buccaneers-(2023).html'), ('The Morning Show', 10, 3, 'jour_08-11-2023', 'Etats-Unis', 'Apple TV+', 'episode10-407705-08112023-saison3-The-Morning-Show.html'), ('The Santa Clauses', 1, 2, 'jour_08-11-2023', 'Etats-Unis', 'Disney+', 'episode01-410598-08112023-saison2-The-Santa-Clauses.html'), ('The Santa Clauses', 2, 2, 'jour_08-11-2023', 'Etats-Unis', 'Disney+', 'episode02-410599-08112023-saison2-The-Santa-Clauses.html'), ('Vigilante', 1, 1, 'jour_08-11-2023', 'Etats-Unis', 'Disney+', 'episode01-411684-08112023-saison1-Vigilante.html'), ('Young Dylan', 10, 4, 'jour_08-11-2023', '', 'Nickelodeon', 'episode10-411482-08112023-saison4-Young-Dylan.html'), ('All Creatures Great and Small (2020)', 6, 4, 'jour_09-11-2023', 'Etats-Unis', 'Channel 5', 'episode06-411519-09112023-saison4-All-Creatures-Great-and-Small-(2020).html'), ('À La Carte', 9, 2, 'jour_09-11-2023', 'Canada', 'ALLBLK', 'episode09-410522-09112023-saison2-A-La-Carte.html'), ('BlackBerry', 1, 1, 'jour_09-11-2023', 'Etats-Unis', 'CBC', 'episode01-411705-09112023-saison1-BlackBerry.html'), ('Bros', 1, 1, 'jour_09-11-2023', 'Etats-Unis', 'Netflix', 'episode01-411565-09112023-saison1-Bros.html'), ('Doom Patrol', 12, 4, 'jour_09-11-2023', 'Etats-Unis', 'HBO Max', 'episode12-410009-09112023-saison4-Doom-Patrol.html'), ('Frasier (2023)', 6, 1, 'jour_09-11-2023', 'Etats-Unis', 'Paramount+', 'episode06-409728-09112023-saison1-Frasier-(2023).html'), ('Kingdom Business', 2, 2, 'jour_09-11-2023', 'Espagne', 'BET+', 'episode02-411745-09112023-saison2-Kingdom-Business.html'), ('La Mesias', 6, 1, 'jour_09-11-2023', 'Etats-Unis', 'Moviestar+', 'episode06-410548-09112023-saison1-La-Mesias.html'), ('Loki', 6, 2, 'jour_09-11-2023', 'France', 'Disney+', 'episode06-410906-09112023-saison2-Loki.html'), ('Master Crimes', 1, 1, 'jour_09-11-2023', 'France', 'TF1', 'episode01-411527-09112023-saison1-Master-Crimes.html'), ('Master Crimes', 2, 1, 'jour_09-11-2023', 'Etats-Unis', 'TF1', 'episode02-411528-09112023-saison1-Master-Crimes.html'), ('Rap Sh!t', 1, 2, 'jour_09-11-2023', 'Etats-Unis', 'HBO Max', 'episode01-408167-09112023-saison2-Rap-Sht.html'), ('Rap Sh!t', 2, 2, 'jour_09-11-2023', 'Etats-Unis', 'HBO Max', 'episode02-408168-09112023-saison2-Rap-Sht.html'), ('The Vanishing Triangle', 4, 1, 'jour_09-11-2023', '', 'SundanceTV', 'episode04-410196-09112023-saison1-The-Vanishing-Triangle.html'), ('At the Moment (Ci Shi Ci Ke)', 1, 1, 'jour_10-11-2023', 'Etats-Unis', 'Netflix', 'episode01-411674-10112023-saison1-At-the-Moment-(Ci-Shi-Ci-Ke).html'), ('At the Moment (Ci Shi Ci Ke)', 2, 1, 'jour_10-11-2023', 'Etats-Unis', 'Netflix', 'episode02-411675-10112023-saison1-At-the-Moment-(Ci-Shi-Ci-Ke).html'), ('At the Moment (Ci Shi Ci Ke)', 3, 1, 'jour_10-11-2023', 'Etats-Unis', 'Netflix', 'episode03-411676-10112023-saison1-At-the-Moment-(Ci-Shi-Ci-Ke).html'), ('At the Moment (Ci Shi Ci Ke)', 4, 1, 'jour_10-11-2023', 'Etats-Unis', 'Netflix', 'episode04-411677-10112023-saison1-At-the-Moment-(Ci-Shi-Ci-Ke).html'), ('At the Moment (Ci Shi Ci Ke)', 5, 1, 'jour_10-11-2023', 'Etats-Unis', 'Netflix', 'episode05-411678-10112023-saison1-At-the-Moment-(Ci-Shi-Ci-Ke).html'), ('At the Moment (Ci Shi Ci Ke)', 6, 1, 'jour_10-11-2023', 'Etats-Unis', 'Netflix', 'episode06-411679-10112023-saison1-At-the-Moment-(Ci-Shi-Ci-Ke).html'), ('At the Moment (Ci Shi Ci Ke)', 7, 1, 'jour_10-11-2023', 'Etats-Unis', 'Netflix', 'episode07-411680-10112023-saison1-At-the-Moment-(Ci-Shi-Ci-Ke).html'), ('At the Moment (Ci Shi Ci Ke)', 8, 1, 'jour_10-11-2023', 'Etats-Unis', 'Netflix', 'episode08-411681-10112023-saison1-At-the-Moment-(Ci-Shi-Ci-Ke).html'), ('At the Moment (Ci Shi Ci Ke)', 9, 1, 'jour_10-11-2023', 'Etats-Unis', 'Netflix', 'episode09-411682-10112023-saison1-At-the-Moment-(Ci-Shi-Ci-Ke).html'), ('At the Moment (Ci Shi Ci Ke)', 10, 1, 'jour_10-11-2023', 'Etats-Unis', 'Netflix', 'episode10-411683-10112023-saison1-At-the-Moment-(Ci-Shi-Ci-Ke).html'), ('Bosch: Legacy', 9, 2, 'jour_10-11-2023', 'Etats-Unis', 'Amazon Freevee', 'episode09-409715-10112023-saison2-Bosch-Legacy.html'), ('Bosch: Legacy', 10, 2, 'jour_10-11-2023', 'Etats-Unis', 'Amazon Freevee', 'episode10-409716-10112023-saison2-Bosch-Legacy.html'), ('Fellow Travelers', 3, 1, 'jour_10-11-2023', 'Etats-Unis', 'Showtime', 'episode03-411068-10112023-saison1-Fellow-Travelers.html'), ('For All Mankind', 1, 4, 'jour_10-11-2023', 'Etats-Unis', 'Apple TV+', 'episode01-410205-10112023-saison4-For-All-Mankind.html'), ('Goosebumps (2023)', 9, 1, 'jour_10-11-2023', 'Etats-Unis', 'Disney+', 'episode09-409986-10112023-saison1-Goosebumps-(2023).html'), ('Invincible', 2, 2, 'jour_10-11-2023', 'Etats-Unis', 'Prime Video', 'episode02-411873-10112023-saison2-Invincible.html'), ('Lessons In Chemistry', 6, 1, 'jour_10-11-2023', 'Etats-Unis', 'Apple TV+', 'episode06-406602-10112023-saison1-Lessons-In-Chemistry.html'), ('NCIS: Sydney', 1, 1, 'jour_10-11-2023', 'Etats-Unis', 'Paramount+', 'episode01-410215-10112023-saison1-NCIS-Sydney.html'), ('Power Book IV: Force', 10, 2, 'jour_10-11-2023', 'Etats-Unis', 'Starz', 'episode10-411348-10112023-saison2-Power-Book-IV-Force.html'), ('Shining Vale', 5, 2, 'jour_10-11-2023', 'Allemagne', 'Starz', 'episode05-411127-10112023-saison2-Shining-Vale.html'), ('SOKO Leipzig', 12, 24, 'jour_10-11-2023', 'Suède', 'ZDF', 'episode12-411900-10112023-saison24-SOKO-Leipzig.html'), ('Solsidan', 8, 8, 'jour_10-11-2023', 'Etats-Unis', 'TV4', 'episode08-411758-10112023-saison8-Solsidan.html'), ('The Curse (2023)', 1, 1, 'jour_10-11-2023', 'Royaume-Uni', 'Showtime on Demand', 'episode01-410727-10112023-saison1-The-Curse-(2023).html'), ('The Good Ship Murder', 5, 1, 'jour_10-11-2023', 'Canada', 'Channel 5', 'episode05-411246-10112023-saison1-The-Good-Ship-Murder.html'), ('Transplant', 6, 4, 'jour_10-11-2023', 'Etats-Unis', 'CTV', 'episode06-409842-10112023-saison4-Transplant.html'), ('Upload', 7, 3, 'jour_10-11-2023', 'Etats-Unis', 'Prime Video', 'episode07-410016-10112023-saison3-Upload.html'), ('Upload', 8, 3, 'jour_10-11-2023', 'Etats-Unis', 'Prime Video', 'episode08-410017-10112023-saison3-Upload.html'), ('Yellowstone', 9, 5, 'jour_10-11-2023', '', 'Paramount Network', 'episode09-410018-10112023-saison5-Yellowstone.html'), ('All Rise', 19, 3, 'jour_11-11-2023', '', 'OWN', 'episode19-411550-11112023-saison3-All-Rise.html'), ('Beacon 23', 1, 1, 'jour_12-11-2023', 'Etats-Unis', 'Epix', 'episode01-410617-12112023-saison1-Beacon-23.html'), (\"Bob's Burgers\", 6, 14, 'jour_12-11-2023', 'Espagne', 'Fox', 'episode06-411551-12112023-saison14-Bob-s-Burgers.html'), ('Entre Tierras', 10, 1, 'jour_12-11-2023', 'Etats-Unis', 'ATRESplayer', 'episode10-410976-12112023-saison1-Entre-Tierras.html'), ('Family Guy', 5, 22, 'jour_12-11-2023', 'Etats-Unis', 'Fox', 'episode05-411552-12112023-saison22-Family-Guy.html'), ('Fear the Walking Dead', 10, 8, 'jour_12-11-2023', 'Canada', 'AMC', 'episode10-408757-12112023-saison8-Fear-the-Walking-Dead.html'), ('Heartland (CA)', 7, 17, 'jour_12-11-2023', 'Etats-Unis', 'CBC', 'episode07-411620-12112023-saison17-Heartland-(CA).html'), ('Krapopolis', 8, 1, 'jour_12-11-2023', 'France', 'Fox', 'episode08-410873-12112023-saison1-Krapopolis.html'), (\"Les Mystères de l'amour\", 14, 33, 'jour_12-11-2023', 'Etats-Unis', 'TMC', 'episode14-411488-12112023-saison33-Les-Mysteres-de-l-amour.html'), ('Rick and Morty', 5, 7, 'jour_12-11-2023', 'Canada', 'Adult Swim', 'episode05-411273-12112023-saison7-Rick-and-Morty.html'), ('SkyMed', 7, 2, 'jour_12-11-2023', 'Etats-Unis', 'CBC Gem', 'episode07-411756-12112023-saison2-SkyMed.html'), ('The Gilded Age', 3, 2, 'jour_12-11-2023', 'Etats-Unis', 'HBO', 'episode03-411128-12112023-saison2-The-Gilded-Age.html'), ('The Simpsons', 6, 35, 'jour_12-11-2023', '', 'Fox', 'episode06-411615-12112023-saison35-The-Simpsons.html'), ('A Murder at the End of the World', 1, 1, 'jour_14-11-2023', 'Etats-Unis', 'Hulu', 'episode01-407977-14112023-saison1-A-Murder-at-the-End-of-the-World.html'), ('A Murder at the End of the World', 2, 1, 'jour_14-11-2023', 'Etats-Unis', 'Hulu', 'episode02-407978-14112023-saison1-A-Murder-at-the-End-of-the-World.html'), ('DNA do Crime', 1, 1, 'jour_14-11-2023', 'Etats-Unis', 'Netflix', 'episode01-411653-14112023-saison1-DNA-do-Crime.html'), ('Found', 7, 1, 'jour_14-11-2023', 'Etats-Unis', 'NBC', 'episode07-409898-14112023-saison1-Found.html'), ('Suburræterna', 1, 1, 'jour_14-11-2023', '', 'Netflix', 'episode01-410618-14112023-saison1-Suburraeterna.html'), ('Black Cake', 5, 1, 'jour_15-11-2023', 'Etats-Unis', 'Hulu', 'episode05-410151-15112023-saison1-Black-Cake.html'), ('Chucky', 7, 3, 'jour_15-11-2023', 'Etats-Unis', 'Syfy', 'episode07-409120-15112023-saison3-Chucky.html'), ('Deutsches Haus', 1, 1, 'jour_15-11-2023', 'Allemagne', 'Disney+', 'episode01-409989-15112023-saison1-Deutsches-Haus.html'), ('Hotel Mondial', 7, 2, 'jour_15-11-2023', 'Etats-Unis', 'ZDF', 'episode07-411893-15112023-saison2-Hotel-Mondial.html'), ('Informacja zwrotna', 1, 1, 'jour_15-11-2023', 'Canada', 'Netflix', 'episode01-411685-15112023-saison1-Informacja-zwrotna.html'), ('Inspirez expirez', 8, 1, 'jour_15-11-2023', 'Canada', 'CraveTV', 'episode08-411702-15112023-saison1-Inspirez-expirez.html'), ('Inspirez expirez', 9, 1, 'jour_15-11-2023', 'Canada', 'CraveTV', 'episode09-411703-15112023-saison1-Inspirez-expirez.html'), ('Inspirez expirez', 10, 1, 'jour_15-11-2023', 'Etats-Unis', 'CraveTV', 'episode10-411704-15112023-saison1-Inspirez-expirez.html'), ('Magnum P.I. (2018)', 16, 5, 'jour_15-11-2023', 'Etats-Unis', 'NBC', 'episode16-410796-15112023-saison5-Magnum-PI-(2018).html'), ('Quantum Leap (2022)', 6, 2, 'jour_15-11-2023', 'Canada', 'NBC', 'episode06-410801-15112023-saison2-Quantum-Leap-(2022).html'), ('Robyn Hood', 8, 1, 'jour_15-11-2023', 'Turquie', 'Global', 'episode08-411855-15112023-saison1-Robyn-Hood.html'), ('Sahsiyet', 1, 2, 'jour_15-11-2023', 'Royaume-Uni', 'Puhu TV', 'episode01-411854-15112023-saison2-Sahsiyet.html'), ('Shetland', 3, 8, 'jour_15-11-2023', 'Etats-Unis', 'BBC One', 'episode03-411755-15112023-saison8-Shetland.html'), ('SurrealEstate', 7, 2, 'jour_15-11-2023', 'Etats-Unis', 'Syfy', 'episode07-410934-15112023-saison2-SurrealEstate.html'), ('The Buccaneers (2023)', 4, 1, 'jour_15-11-2023', 'Royaume-Uni', 'Apple TV+', 'episode04-409070-15112023-saison1-The-Buccaneers-(2023).html'), ('The Lazarus Project', 1, 2, 'jour_15-11-2023', 'Etats-Unis', 'Sky1', 'episode01-411498-15112023-saison2-The-Lazarus-Project.html'), ('The Santa Clauses', 3, 2, 'jour_15-11-2023', 'Etats-Unis', 'Disney+', 'episode03-410600-15112023-saison2-The-Santa-Clauses.html'), ('Tout va bien', 1, 1, 'jour_15-11-2023', 'Etats-Unis', 'Disney+', 'episode01-411564-15112023-saison1-Tout-va-bien.html'), ('Tout va bien', 2, 1, 'jour_15-11-2023', 'Etats-Unis', 'Disney+', 'episode02-411846-15112023-saison1-Tout-va-bien.html'), ('Tout va bien', 3, 1, 'jour_15-11-2023', 'Etats-Unis', 'Disney+', 'episode03-411847-15112023-saison1-Tout-va-bien.html'), ('Tout va bien', 4, 1, 'jour_15-11-2023', 'Etats-Unis', 'Disney+', 'episode04-411848-15112023-saison1-Tout-va-bien.html'), ('Tout va bien', 5, 1, 'jour_15-11-2023', 'Etats-Unis', 'Disney+', 'episode05-411849-15112023-saison1-Tout-va-bien.html'), ('Tout va bien', 6, 1, 'jour_15-11-2023', 'Etats-Unis', 'Disney+', 'episode06-411850-15112023-saison1-Tout-va-bien.html'), ('Tout va bien', 7, 1, 'jour_15-11-2023', 'Etats-Unis', 'Disney+', 'episode07-411851-15112023-saison1-Tout-va-bien.html'), ('Tout va bien', 8, 1, 'jour_15-11-2023', 'Etats-Unis', 'Disney+', 'episode08-411852-15112023-saison1-Tout-va-bien.html'), ('Young Dylan', 11, 4, 'jour_15-11-2023', '', 'Nickelodeon', 'episode11-411765-15112023-saison4-Young-Dylan.html'), ('Anderson Spider Silva', 1, 1, 'jour_16-11-2023', 'Etats-Unis', 'Paramount+', 'episode01-411535-16112023-saison1-Anderson-Spider-Silva.html'), ('Anderson Spider Silva', 2, 1, 'jour_16-11-2023', 'Etats-Unis', 'Paramount+', 'episode02-411536-16112023-saison1-Anderson-Spider-Silva.html'), ('Anderson Spider Silva', 3, 1, 'jour_16-11-2023', 'Etats-Unis', 'Paramount+', 'episode03-411537-16112023-saison1-Anderson-Spider-Silva.html'), ('Anderson Spider Silva', 4, 1, 'jour_16-11-2023', 'Etats-Unis', 'Paramount+', 'episode04-411538-16112023-saison1-Anderson-Spider-Silva.html'), ('À La Carte', 10, 2, 'jour_16-11-2023', 'Canada', 'ALLBLK', 'episode10-410523-16112023-saison2-A-La-Carte.html'), ('BlackBerry', 2, 1, 'jour_16-11-2023', 'Etats-Unis', 'CBC', 'episode02-411706-16112023-saison1-BlackBerry.html'), ('Frasier (2023)', 7, 1, 'jour_16-11-2023', 'Etats-Unis', 'Paramount+', 'episode07-409729-16112023-saison1-Frasier-(2023).html'), ('Julia (2022)', 1, 2, 'jour_16-11-2023', 'Etats-Unis', 'HBO Max', 'episode01-410536-16112023-saison2-Julia-(2022).html'), ('Julia (2022)', 2, 2, 'jour_16-11-2023', 'Etats-Unis', 'HBO Max', 'episode02-410537-16112023-saison2-Julia-(2022).html'), ('Julia (2022)', 3, 2, 'jour_16-11-2023', 'Etats-Unis', 'HBO Max', 'episode03-410538-16112023-saison2-Julia-(2022).html'), ('Kingdom Business', 3, 2, 'jour_16-11-2023', 'Espagne', 'BET+', 'episode03-411746-16112023-saison2-Kingdom-Business.html'), ('La Mesias', 7, 1, 'jour_16-11-2023', 'France', 'Moviestar+', 'episode07-410549-16112023-saison1-La-Mesias.html'), ('Le Voyageur', 5, 2, 'jour_16-11-2023', 'France', 'France 3', 'episode05-411861-16112023-saison2-Le-Voyageur.html'), ('Master Crimes', 3, 1, 'jour_16-11-2023', 'France', 'TF1', 'episode03-411529-16112023-saison1-Master-Crimes.html'), ('Master Crimes', 4, 1, 'jour_16-11-2023', 'Etats-Unis', 'TF1', 'episode04-411530-16112023-saison1-Master-Crimes.html'), ('Rap Sh!t', 3, 2, 'jour_16-11-2023', 'Etats-Unis', 'HBO Max', 'episode03-408169-16112023-saison2-Rap-Sht.html'), ('Terror Lake Drive', 1, 3, 'jour_16-11-2023', 'Etats-Unis', 'ALLBLK', 'episode01-411761-16112023-saison3-Terror-Lake-Drive.html'), ('The Crown', 1, 6, 'jour_16-11-2023', 'Etats-Unis', 'Netflix', 'episode01-411001-16112023-saison6-The-Crown.html'), ('The Vanishing Triangle', 5, 1, 'jour_16-11-2023', 'Italie', 'SundanceTV', 'episode05-410197-16112023-saison1-The-Vanishing-Triangle.html'), ('Un professore', 1, 2, 'jour_16-11-2023', '', 'Rai 1', 'episode01-411117-16112023-saison2-Un-professore.html'), ('Fellow Travelers', 4, 1, 'jour_17-11-2023', 'Etats-Unis', 'Showtime', 'episode04-411452-17112023-saison1-Fellow-Travelers.html'), ('For All Mankind', 2, 4, 'jour_17-11-2023', 'Etats-Unis', 'Apple TV+', 'episode02-410206-17112023-saison4-For-All-Mankind.html'), ('Goosebumps (2023)', 10, 1, 'jour_17-11-2023', 'Suède', 'Disney+', 'episode10-409987-17112023-saison1-Goosebumps-(2023).html'), ('Heartbeats', 1, 2, 'jour_17-11-2023', 'Etats-Unis', 'TV4', 'episode01-411724-17112023-saison2-Heartbeats.html'), ('Invincible', 3, 2, 'jour_17-11-2023', 'Etats-Unis', 'Prime Video', 'episode03-411874-17112023-saison2-Invincible.html'), ('Lessons In Chemistry', 7, 1, 'jour_17-11-2023', 'Etats-Unis', 'Apple TV+', 'episode07-406603-17112023-saison1-Lessons-In-Chemistry.html'), ('Monarch: Legacy of Monsters', 1, 1, 'jour_17-11-2023', 'Etats-Unis', 'Apple TV+', 'episode01-409991-17112023-saison1-Monarch-Legacy-of-Monsters.html'), ('Monarch: Legacy of Monsters', 2, 1, 'jour_17-11-2023', 'Etats-Unis', 'Apple TV+', 'episode02-409992-17112023-saison1-Monarch-Legacy-of-Monsters.html'), ('NCIS: Sydney', 2, 1, 'jour_17-11-2023', 'Etats-Unis', 'Paramount+', 'episode02-410216-17112023-saison1-NCIS-Sydney.html'), ('Ojitos de huevo', 1, 1, 'jour_17-11-2023', 'Etats-Unis', 'Netflix', 'episode01-411563-17112023-saison1-Ojitos-de-huevo.html'), ('Sagrada familia', 1, 2, 'jour_17-11-2023', 'Etats-Unis', 'Netflix', 'episode01-411642-17112023-saison2-Sagrada-familia.html'), ('Shining Vale', 6, 2, 'jour_17-11-2023', 'Allemagne', 'Starz', 'episode06-411129-17112023-saison2-Shining-Vale.html'), ('SOKO Leipzig', 13, 24, 'jour_17-11-2023', 'Suède', 'ZDF', 'episode13-411901-17112023-saison24-SOKO-Leipzig.html'), ('Solsidan', 9, 8, 'jour_17-11-2023', 'Canada', 'TV4', 'episode09-411759-17112023-saison8-Solsidan.html'), ('Sort Of', 1, 3, 'jour_17-11-2023', 'Etats-Unis', 'CBC Gem', 'episode01-410155-17112023-saison3-Sort-Of.html'), ('The Curse (2023)', 2, 1, 'jour_17-11-2023', 'Royaume-Uni', 'Showtime on Demand', 'episode02-411762-17112023-saison1-The-Curse-(2023).html'), ('The Good Ship Murder', 6, 1, 'jour_17-11-2023', 'Canada', 'Channel 5', 'episode06-411247-17112023-saison1-The-Good-Ship-Murder.html'), ('Transplant', 7, 4, 'jour_17-11-2023', '', 'CTV', 'episode07-409843-17112023-saison4-Transplant.html'), ('All Rise', 20, 3, 'jour_18-11-2023', '', 'OWN', 'episode20-411553-18112023-saison3-All-Rise.html'), ('Beacon 23', 2, 1, 'jour_19-11-2023', 'Etats-Unis', 'Epix', 'episode02-411639-19112023-saison1-Beacon-23.html'), ('Fear the Walking Dead', 11, 8, 'jour_19-11-2023', 'Etats-Unis', 'AMC', 'episode11-408758-19112023-saison8-Fear-the-Walking-Dead.html'), ('Fear the Walking Dead', 12, 8, 'jour_19-11-2023', 'Canada', 'AMC', 'episode12-408759-26112023-saison8-Fear-the-Walking-Dead.html'), ('Heartland (CA)', 8, 17, 'jour_19-11-2023', 'Etats-Unis', 'CBC', 'episode08-411743-19112023-saison17-Heartland-(CA).html'), ('Krapopolis', 9, 1, 'jour_19-11-2023', 'France', 'Fox', 'episode09-411002-19112023-saison1-Krapopolis.html'), (\"Les Mystères de l'amour\", 15, 33, 'jour_19-11-2023', 'Etats-Unis', 'TMC', 'episode15-411792-19112023-saison33-Les-Mysteres-de-l-amour.html'), ('Rick and Morty', 6, 7, 'jour_19-11-2023', 'Etats-Unis', 'Adult Swim', 'episode06-411274-19112023-saison7-Rick-and-Morty.html'), ('The Gilded Age', 4, 2, 'jour_19-11-2023', '', 'HBO', 'episode04-411130-19112023-saison2-The-Gilded-Age.html'), ('A Murder at the End of the World', 3, 1, 'jour_21-11-2023', 'Etats-Unis', 'Hulu', 'episode03-407979-21112023-saison1-A-Murder-at-the-End-of-the-World.html'), ('Fargo', 1, 5, 'jour_21-11-2023', 'Etats-Unis', 'FX', 'episode01-409056-21112023-saison5-Fargo.html'), ('Fargo', 2, 5, 'jour_21-11-2023', 'Etats-Unis', 'FX', 'episode02-411343-21112023-saison5-Fargo.html'), ('Found', 8, 1, 'jour_21-11-2023', '', 'NBC', 'episode08-409899-21112023-saison1-Found.html'), ('Black Cake', 6, 1, 'jour_22-11-2023', 'Etats-Unis', 'Hulu', 'episode06-410152-22112023-saison1-Black-Cake.html'), ('Chucky', 8, 3, 'jour_22-11-2023', 'Etats-Unis', 'Syfy', 'episode08-409121-22112023-saison3-Chucky.html'), ('Magnum P.I. (2018)', 17, 5, 'jour_22-11-2023', 'Etats-Unis', 'NBC', 'episode17-410797-15112023-saison5-Magnum-PI-(2018).html'), ('Magnum P.I. (2018)', 18, 5, 'jour_22-11-2023', 'Etats-Unis', 'NBC', 'episode18-410798-22112023-saison5-Magnum-PI-(2018).html'), ('SurrealEstate', 8, 2, 'jour_22-11-2023', 'Etats-Unis', 'Syfy', 'episode08-411102-22112023-saison2-SurrealEstate.html'), ('The Buccaneers (2023)', 5, 1, 'jour_22-11-2023', 'Etats-Unis', 'Apple TV+', 'episode05-409071-22112023-saison1-The-Buccaneers-(2023).html'), ('The Santa Clauses', 4, 2, 'jour_22-11-2023', '', 'Disney+', 'episode04-410601-22112023-saison2-The-Santa-Clauses.html'), ('BlackBerry', 3, 1, 'jour_23-11-2023', 'Etats-Unis', 'CBC', 'episode03-411707-23112023-saison1-BlackBerry.html'), ('Frasier (2023)', 8, 1, 'jour_23-11-2023', 'Etats-Unis', 'Paramount+', 'episode08-409730-23112023-saison1-Frasier-(2023).html'), ('Julia (2022)', 4, 2, 'jour_23-11-2023', 'Etats-Unis', 'HBO Max', 'episode04-410539-23112023-saison2-Julia-(2022).html'), ('Kingdom Business', 4, 2, 'jour_23-11-2023', 'France', 'BET+', 'episode04-411747-23112023-saison2-Kingdom-Business.html'), ('Master Crimes', 5, 1, 'jour_23-11-2023', 'France', 'TF1', 'episode05-411531-23112023-saison1-Master-Crimes.html'), ('Master Crimes', 6, 1, 'jour_23-11-2023', 'Etats-Unis', 'TF1', 'episode06-411532-23112023-saison1-Master-Crimes.html'), ('Rap Sh!t', 4, 2, 'jour_23-11-2023', 'Etats-Unis', 'HBO Max', 'episode04-408170-23112023-saison2-Rap-Sht.html'), ('The Vanishing Triangle', 6, 1, 'jour_23-11-2023', '', 'SundanceTV', 'episode06-410198-23112023-saison1-The-Vanishing-Triangle.html'), ('En helt vanlig familj', 1, 1, 'jour_24-11-2023', 'Etats-Unis', 'Netflix', 'episode01-411652-24112023-saison1-En-helt-vanlig-familj.html'), ('Fellow Travelers', 5, 1, 'jour_24-11-2023', 'Etats-Unis', 'Showtime', 'episode05-411453-24112023-saison1-Fellow-Travelers.html'), ('For All Mankind', 3, 4, 'jour_24-11-2023', 'Etats-Unis', 'Apple TV+', 'episode03-410207-24112023-saison4-For-All-Mankind.html'), ('Invincible', 4, 2, 'jour_24-11-2023', 'Etats-Unis', 'Prime Video', 'episode04-411875-24112023-saison2-Invincible.html'), ('Lessons In Chemistry', 8, 1, 'jour_24-11-2023', 'Etats-Unis', 'Apple TV+', 'episode08-406604-24112023-saison1-Lessons-In-Chemistry.html'), ('Monarch: Legacy of Monsters', 3, 1, 'jour_24-11-2023', 'Etats-Unis', 'Apple TV+', 'episode03-409993-24112023-saison1-Monarch-Legacy-of-Monsters.html'), ('My Demon', 1, 1, 'jour_24-11-2023', 'Etats-Unis', 'Netflix', 'episode01-411686-24112023-saison1-My-Demon.html'), ('NCIS: Sydney', 3, 1, 'jour_24-11-2023', 'Etats-Unis', 'Paramount+', 'episode03-410217-24112023-saison1-NCIS-Sydney.html'), ('Shining Vale', 7, 2, 'jour_24-11-2023', 'Suède', 'Starz', 'episode07-411162-24112023-saison2-Shining-Vale.html'), ('Solsidan', 10, 8, 'jour_24-11-2023', 'Etats-Unis', 'TV4', 'episode10-411760-24112023-saison8-Solsidan.html'), ('The Curse (2023)', 3, 1, 'jour_24-11-2023', 'Royaume-Uni', 'Showtime on Demand', 'episode03-411763-24112023-saison1-The-Curse-(2023).html'), ('The Good Ship Murder', 7, 1, 'jour_24-11-2023', 'Canada', 'Channel 5', 'episode07-411248-24112023-saison1-The-Good-Ship-Murder.html'), ('Transplant', 8, 4, 'jour_24-11-2023', '', 'CTV', 'episode08-411161-24112023-saison4-Transplant.html'), ('My Demon', 2, 1, 'jour_25-11-2023', '', 'Netflix', 'episode02-411687-25112023-saison1-My-Demon.html'), ('Beacon 23', 3, 1, 'jour_26-11-2023', 'Etats-Unis', 'Epix', 'episode03-411640-26112023-saison1-Beacon-23.html'), ('Rick and Morty', 7, 7, 'jour_26-11-2023', 'Etats-Unis', 'Adult Swim', 'episode07-411275-26112023-saison7-Rick-and-Morty.html'), ('The Gilded Age', 5, 2, 'jour_26-11-2023', '', 'HBO', 'episode05-411249-26112023-saison2-The-Gilded-Age.html'), ('A Murder at the End of the World', 4, 1, 'jour_28-11-2023', 'Etats-Unis', 'Hulu', 'episode04-407980-28112023-saison1-A-Murder-at-the-End-of-the-World.html'), ('Fargo', 3, 5, 'jour_28-11-2023', 'Etats-Unis', 'FX', 'episode03-411344-28112023-saison5-Fargo.html'), ('Found', 9, 1, 'jour_28-11-2023', '', 'NBC', 'episode09-409900-28112023-saison1-Found.html'), ('Black Cake', 7, 1, 'jour_29-11-2023', 'Etats-Unis', 'Hulu', 'episode07-410153-29112023-saison1-Black-Cake.html'), ('Magnum P.I. (2018)', 19, 5, 'jour_29-11-2023', 'Etats-Unis', 'NBC', 'episode19-410799-29112023-saison5-Magnum-PI-(2018).html'), ('Quantum Leap (2022)', 9, 2, 'jour_29-11-2023', 'Etats-Unis', 'NBC', 'episode09-411315-29112023-saison2-Quantum-Leap-(2022).html'), ('SurrealEstate', 9, 2, 'jour_29-11-2023', 'Etats-Unis', 'Syfy', 'episode09-411103-29112023-saison2-SurrealEstate.html'), ('The Artful Dodger', 1, 1, 'jour_29-11-2023', 'Etats-Unis', 'Disney+', 'episode01-411104-29112023-saison1-The-Artful-Dodger.html'), ('The Buccaneers (2023)', 6, 1, 'jour_29-11-2023', 'Etats-Unis', 'Apple TV+', 'episode06-409072-29112023-saison1-The-Buccaneers-(2023).html'), ('The Santa Clauses', 5, 2, 'jour_29-11-2023', '', 'Disney+', 'episode05-410602-29112023-saison2-The-Santa-Clauses.html'), ('Family Law (CAN)', 1, 3, 'jour_30-11-2023', 'Canada', 'Global', 'episode01-410524-30112023-saison3-Family-Law-(CAN).html'), ('Family Law (CAN)', 2, 3, 'jour_30-11-2023', 'Canada', 'Global', 'episode02-410525-30112023-saison3-Family-Law-(CAN).html'), ('Family Law (CAN)', 3, 3, 'jour_30-11-2023', 'Canada', 'Global', 'episode03-410526-30112023-saison3-Family-Law-(CAN).html'), ('Family Law (CAN)', 4, 3, 'jour_30-11-2023', 'Canada', 'Global', 'episode04-410527-30112023-saison3-Family-Law-(CAN).html'), ('Family Law (CAN)', 5, 3, 'jour_30-11-2023', 'Canada', 'Global', 'episode05-410528-30112023-saison3-Family-Law-(CAN).html'), ('Family Law (CAN)', 6, 3, 'jour_30-11-2023', 'Canada', 'Global', 'episode06-410529-30112023-saison3-Family-Law-(CAN).html'), ('Family Law (CAN)', 7, 3, 'jour_30-11-2023', 'Canada', 'Global', 'episode07-410530-30112023-saison3-Family-Law-(CAN).html'), ('Family Law (CAN)', 8, 3, 'jour_30-11-2023', 'Canada', 'Global', 'episode08-410531-30112023-saison3-Family-Law-(CAN).html'), ('Family Law (CAN)', 9, 3, 'jour_30-11-2023', 'Canada', 'Global', 'episode09-410532-30112023-saison3-Family-Law-(CAN).html'), ('Family Law (CAN)', 10, 3, 'jour_30-11-2023', 'Etats-Unis', 'Global', 'episode10-410533-30112023-saison3-Family-Law-(CAN).html'), ('Frasier (2023)', 9, 1, 'jour_30-11-2023', 'Etats-Unis', 'Paramount+', 'episode09-409731-30112023-saison1-Frasier-(2023).html'), ('Julia (2022)', 5, 2, 'jour_30-11-2023', 'Etats-Unis', 'HBO Max', 'episode05-410540-30112023-saison2-Julia-(2022).html'), ('Obliterated', 1, 1, 'jour_30-11-2023', 'Etats-Unis', 'Netflix', 'episode01-409739-30112023-saison1-Obliterated.html'), ('Obliterated', 2, 1, 'jour_30-11-2023', 'Etats-Unis', 'Netflix', 'episode02-409740-30112023-saison1-Obliterated.html'), ('Obliterated', 3, 1, 'jour_30-11-2023', 'Etats-Unis', 'Netflix', 'episode03-409741-30112023-saison1-Obliterated.html'), ('Obliterated', 4, 1, 'jour_30-11-2023', 'Etats-Unis', 'Netflix', 'episode04-409742-30112023-saison1-Obliterated.html'), ('Obliterated', 5, 1, 'jour_30-11-2023', 'Etats-Unis', 'Netflix', 'episode05-409743-30112023-saison1-Obliterated.html'), ('Obliterated', 6, 1, 'jour_30-11-2023', 'Etats-Unis', 'Netflix', 'episode06-409744-30112023-saison1-Obliterated.html'), ('Obliterated', 7, 1, 'jour_30-11-2023', 'Etats-Unis', 'Netflix', 'episode07-409745-30112023-saison1-Obliterated.html'), ('Obliterated', 8, 1, 'jour_30-11-2023', 'Etats-Unis', 'Netflix', 'episode08-409746-30112023-saison1-Obliterated.html'), ('Rap Sh!t', 5, 2, 'jour_30-11-2023', 'Etats-Unis', 'HBO Max', 'episode05-408171-30112023-saison2-Rap-Sht.html'), ('Virgin River', 11, 5, 'jour_30-11-2023', 'Etats-Unis', 'Netflix', 'episode11-411788-30112023-saison5-Virgin-River.html'), ('Virgin River', 12, 5, 'jour_30-11-2023', '', 'Netflix', 'episode12-411789-30112023-saison5-Virgin-River.html')]\n"
     ]
    }
   ],
   "source": [
    "# Définissez le chemin vers votre fichier CSV\n",
    "csv_file_path = 'data/files/episodes.csv'\n",
    "\n",
    "def read_csv_file_no_csv_module(file_path):\n",
    "    episodes = []\n",
    "    with open(file_path, 'r', encoding='utf-8') as file:\n",
    "        lines = file.readlines()\n",
    "        for line in lines[1:]:  # Skip header line\n",
    "            if line.strip():  # Skip empty lines\n",
    "                # Split the line into fields\n",
    "                fields = line.strip().split(';')\n",
    "                # Cast each field to the correct type\n",
    "                try:\n",
    "                    name = str(fields[0])\n",
    "                    episode_num = int(fields[1])\n",
    "                    season_num = int(fields[2])\n",
    "                    date = str(fields[3])\n",
    "                    origin_country = str(fields[4])\n",
    "                    network = str(fields[5])\n",
    "                    episode_url = str(fields[6])\n",
    "                    episode_tuple = (name, episode_num, season_num, date, origin_country, network, episode_url)\n",
    "                    episodes.append(episode_tuple)\n",
    "                except ValueError as e:\n",
    "                    print(f\"Error converting types for row {fields}: {e}\")\n",
    "    return episodes\n",
    "\n",
    "# Use this function if you cannot use the csv module\n",
    "episode_list = read_csv_file_no_csv_module(csv_file_path)\n",
    "\n",
    "print(episode_list)\n"
   ]
  },
  {
   "cell_type": "code",
   "execution_count": null,
   "metadata": {},
   "outputs": [],
   "source": [
    "� Quels mots reviennent le plus souvent dans les noms des séries ? (attention à ne compter qu’une seule fois chaque\n",
    "série, et pas une fois chaque épisode)\n",
    "Les indiquer dans le fichier README.md"
   ]
  },
  {
   "cell_type": "code",
   "execution_count": 13,
   "metadata": {},
   "outputs": [],
   "source": [
    "import re\n",
    "from collections import Counter\n",
    "import sqlite3\n",
    "\n",
    "# Extraction des noms uniques des séries à partir de la base de données SQLite\n",
    "def extraire_noms_series_unicques():\n",
    "    conn = sqlite3.connect('data/databases/database.db')\n",
    "    cursor = conn.cursor()\n",
    "    cursor.execute(\"SELECT DISTINCT name FROM episode\")\n",
    "    series_noms = set(name[0] for name in cursor.fetchall())\n",
    "    conn.close()\n",
    "    return series_noms\n",
    "\n",
    "# Compter la fréquence des mots dans les noms des séries\n",
    "def compter_mots(series_noms):\n",
    "    comptage_mots = Counter()\n",
    "    for nom in series_noms:\n",
    "        mots = re.findall(r'\\b\\w+\\b', nom.lower())\n",
    "        comptage_mots.update(mots)\n",
    "    return comptage_mots\n",
    "\n",
    "# Écrire les mots les plus fréquents dans README.md\n",
    "def ecrire_readme(mots_communs):\n",
    "    with open('README.md', 'a', encoding='utf-8') as f:\n",
    "        f.write(\"\\n## Mots les plus fréquents dans les noms de séries\\n\")\n",
    "        for mot, frequence in mots_communs:\n",
    "            f.write(f\"- {mot}: {frequence} occurrences\\n\")\n",
    "\n",
    "# Exécution des fonctions\n",
    "series_noms = extraire_noms_series_unicques()\n",
    "comptage_mots = compter_mots(series_noms)\n",
    "mots_communs = comptage_mots.most_common()\n",
    "ecrire_readme(mots_communs)\n"
   ]
  },
  {
   "attachments": {},
   "cell_type": "markdown",
   "metadata": {},
   "source": [
    "Test pour réupérer l'url de la page recherche "
   ]
  },
  {
   "cell_type": "code",
   "execution_count": 51,
   "metadata": {},
   "outputs": [
    {
     "name": "stdout",
     "output_type": "stream",
     "text": [
      "{25: '50minutes', 92: '52minutes', 93: '52minutes', 94: '52minutes', 95: '50minutes', 127: '45minutes', 130: '54minutes', 174: '52minutes', 207: '45minutes', 211: '54minutes', 212: 'minutes', 213: 'minutes', 242: '52minutes', 254: '45minutes', 256: '54minutes', 257: 'minutes', 277: '52minutes'}\n"
     ]
    }
   ],
   "source": [
    "import requests\n",
    "from bs4 import BeautifulSoup\n",
    "import time\n",
    "import sqlite3\n",
    "\n",
    "# Connexion à la base de données SQLite pour récupérer les URLs et les IDs des épisodes\n",
    "conn = sqlite3.connect('data/databases/database.db')\n",
    "cur = conn.cursor()\n",
    "\n",
    "# Sélectionnez les IDs et les URLs des épisodes du réseau \"apple-tv\"\n",
    "cur.execute(\"SELECT id, episode_url FROM episode WHERE network = 'Apple TV+'\")\n",
    "episodes_to_scrape = cur.fetchall()\n",
    "conn.close()  # Fermez la connexion à la base de données\n",
    "\n",
    "# Dictionnaire pour stocker les durées des épisodes\n",
    "episode_durations = {}\n",
    "\n",
    "def scrape_episode_duration(url):\n",
    "    response = requests.get(url)\n",
    "    soup = BeautifulSoup(response.text, 'html.parser')\n",
    "    duration_tag = soup.find(class_='episode_infos_episode_format')\n",
    "    duration_text = duration_tag.get_text(strip=True) if duration_tag else \"Durée non trouvée\"\n",
    "    return duration_text\n",
    "\n",
    "# Bouclez sur les épisodes et scrapez les durées\n",
    "for episode_id, episode_url in episodes_to_scrape:\n",
    "\n",
    "    # Assurez-vous que l'URL est complète\n",
    "    if not episode_url.startswith('http'):\n",
    "        episode_url = f'https://www.spin-off.fr/{episode_url}'\n",
    "\n",
    "    # Scrapez la durée de l'épisode\n",
    "    try:\n",
    "        duration = scrape_episode_duration(episode_url)\n",
    "        episode_durations[episode_id] = duration\n",
    "        time.sleep(1)  # Pause pour éviter le rate limiting\n",
    "    except Exception as e:\n",
    "        print(f\"Erreur lors du scraping de l'épisode {episode_id} à l'URL {episode_url}: {e}\")\n",
    "\n",
    "# Ici, `episode_durations` contient les durées des épisodes avec les IDs correspondants.\n",
    "print(episode_durations)\n"
   ]
  }
 ],
 "metadata": {
  "kernelspec": {
   "display_name": "Python 3",
   "language": "python",
   "name": "python3"
  },
  "language_info": {
   "name": "python",
   "version": "3.11.3"
  },
  "orig_nbformat": 4,
  "vscode": {
   "interpreter": {
    "hash": "81bd72421fd5d63e4ee9fa784821c92c07d954c88ac6df7776d2c7cf9a96f666"
   }
  }
 },
 "nbformat": 4,
 "nbformat_minor": 2
}
